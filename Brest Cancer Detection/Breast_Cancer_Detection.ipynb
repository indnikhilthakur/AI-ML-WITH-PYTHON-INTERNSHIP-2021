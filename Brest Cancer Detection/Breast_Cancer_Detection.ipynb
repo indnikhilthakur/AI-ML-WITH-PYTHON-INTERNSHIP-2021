{
  "cells": [
    {
      "cell_type": "code",
      "execution_count": 2,
      "metadata": {
        "id": "9h9VwWrbhEDP"
      },
      "outputs": [
        {
          "ename": "ModuleNotFoundError",
          "evalue": "No module named 'keras'",
          "output_type": "error",
          "traceback": [
            "\u001b[1;31m---------------------------------------------------------------------------\u001b[0m",
            "\u001b[1;31mModuleNotFoundError\u001b[0m                       Traceback (most recent call last)",
            "\u001b[1;32md:\\AI+ML\\Breast_Cancer_Detection.ipynb Cell 1\u001b[0m in \u001b[0;36m<cell line: 7>\u001b[1;34m()\u001b[0m\n\u001b[0;32m      <a href='vscode-notebook-cell:/d%3A/AI%2BML/Breast_Cancer_Detection.ipynb#W0sZmlsZQ%3D%3D?line=3'>4</a>\u001b[0m \u001b[39mfrom\u001b[39;00m \u001b[39msklearn\u001b[39;00m\u001b[39m.\u001b[39;00m\u001b[39mdatasets\u001b[39;00m \u001b[39mimport\u001b[39;00m load_breast_cancer\n\u001b[0;32m      <a href='vscode-notebook-cell:/d%3A/AI%2BML/Breast_Cancer_Detection.ipynb#W0sZmlsZQ%3D%3D?line=4'>5</a>\u001b[0m \u001b[39mfrom\u001b[39;00m \u001b[39msklearn\u001b[39;00m\u001b[39m.\u001b[39;00m\u001b[39mpreprocessing\u001b[39;00m \u001b[39mimport\u001b[39;00m StandardScaler\n\u001b[1;32m----> <a href='vscode-notebook-cell:/d%3A/AI%2BML/Breast_Cancer_Detection.ipynb#W0sZmlsZQ%3D%3D?line=6'>7</a>\u001b[0m \u001b[39mfrom\u001b[39;00m \u001b[39mkeras\u001b[39;00m\u001b[39m.\u001b[39;00m\u001b[39mmodels\u001b[39;00m \u001b[39mimport\u001b[39;00m Sequential\n\u001b[0;32m      <a href='vscode-notebook-cell:/d%3A/AI%2BML/Breast_Cancer_Detection.ipynb#W0sZmlsZQ%3D%3D?line=7'>8</a>\u001b[0m \u001b[39mfrom\u001b[39;00m \u001b[39mkeras\u001b[39;00m\u001b[39m.\u001b[39;00m\u001b[39mlayers\u001b[39;00m \u001b[39mimport\u001b[39;00m Dense\n",
            "\u001b[1;31mModuleNotFoundError\u001b[0m: No module named 'keras'"
          ]
        }
      ],
      "source": [
        "import pandas as pd\n",
        "import numpy as np\n",
        "\n",
        "from sklearn.datasets import load_breast_cancer\n",
        "from sklearn.preprocessing import StandardScaler\n",
        "\n",
        "from keras.models import Sequential\n",
        "from keras.layers import Dense"
      ]
    },
    {
      "cell_type": "code",
      "execution_count": null,
      "metadata": {},
      "outputs": [],
      "source": []
    },
    {
      "cell_type": "code",
      "execution_count": null,
      "metadata": {
        "id": "PKJ7JWdAmtg8"
      },
      "outputs": [],
      "source": [
        "data = load_breast_cancer()"
      ]
    },
    {
      "cell_type": "code",
      "execution_count": null,
      "metadata": {
        "id": "epdBTC-im4Rb"
      },
      "outputs": [],
      "source": [
        "data.keys()"
      ]
    },
    {
      "cell_type": "code",
      "execution_count": null,
      "metadata": {
        "id": "Iv9QGESOm6ni"
      },
      "outputs": [],
      "source": [
        "print(data['DESCR'])"
      ]
    },
    {
      "cell_type": "code",
      "execution_count": null,
      "metadata": {
        "id": "LD9ptFjvnuyz"
      },
      "outputs": [],
      "source": [
        "data['data'].shape"
      ]
    },
    {
      "cell_type": "code",
      "execution_count": null,
      "metadata": {
        "id": "gIOjFb1ypLqB"
      },
      "outputs": [],
      "source": [
        "data['feature_names']"
      ]
    },
    {
      "cell_type": "code",
      "execution_count": null,
      "metadata": {
        "id": "_Or3hS_KpeR0"
      },
      "outputs": [],
      "source": [
        "data['data'][0]"
      ]
    },
    {
      "cell_type": "code",
      "execution_count": null,
      "metadata": {
        "id": "66RDgPoPpkDH"
      },
      "outputs": [],
      "source": [
        "j = 0\n",
        "for i in data['feature_names']:\n",
        "  print(i,\":\",data['data'][0][j])\n",
        "  j+=1"
      ]
    },
    {
      "cell_type": "code",
      "execution_count": null,
      "metadata": {
        "id": "Nzk4dIoOqu1t"
      },
      "outputs": [],
      "source": [
        "feature = data['data']"
      ]
    },
    {
      "cell_type": "code",
      "execution_count": null,
      "metadata": {
        "id": "KqwgdGdzp0ZX"
      },
      "outputs": [],
      "source": [
        "label = data['target']"
      ]
    },
    {
      "cell_type": "code",
      "execution_count": null,
      "metadata": {
        "id": "UmP62MQWqiK1"
      },
      "outputs": [],
      "source": [
        "data['target_names']"
      ]
    },
    {
      "cell_type": "code",
      "execution_count": null,
      "metadata": {
        "id": "apyfDrfeqnC1"
      },
      "outputs": [],
      "source": [
        "feature.shape"
      ]
    },
    {
      "cell_type": "code",
      "execution_count": null,
      "metadata": {
        "id": "Kn1TAFLfsQBc"
      },
      "outputs": [],
      "source": [
        "label.shape"
      ]
    },
    {
      "cell_type": "code",
      "execution_count": null,
      "metadata": {
        "id": "LoUal6dDsr0T"
      },
      "outputs": [],
      "source": [
        "scale = StandardScaler()\n",
        "\n",
        "feature = scale.fit_transform(feature)"
      ]
    },
    {
      "cell_type": "code",
      "execution_count": null,
      "metadata": {
        "id": "r_FOyQMHt8PT"
      },
      "outputs": [],
      "source": [
        "j = 0\n",
        "for i in data['feature_names']:\n",
        "  print(i,\":\",feature[0][j])\n",
        "  j+=1"
      ]
    },
    {
      "cell_type": "code",
      "execution_count": null,
      "metadata": {
        "id": "AKKH4JKKuRTt"
      },
      "outputs": [],
      "source": [
        "print(feature[568])\n",
        "print(data['target_names'][label[568]],label[568])\n"
      ]
    },
    {
      "cell_type": "code",
      "execution_count": null,
      "metadata": {
        "id": "Ms1YidTfusxT"
      },
      "outputs": [],
      "source": [
        "df_frt = pd.DataFrame(feature , columns = data['feature_names'])\n",
        "df_lbl = pd.DataFrame(label , columns = ['label'])\n",
        "df = pd.concat([df_frt, df_lbl], axis=1)\n",
        "df = df.sample(frac = 1)\n",
        "\n",
        "feature = df.values[ : , : 30]\n",
        "label = df.values[ : ,30: ]"
      ]
    },
    {
      "cell_type": "code",
      "execution_count": null,
      "metadata": {
        "id": "70TWMaSt-W4y"
      },
      "outputs": [],
      "source": [
        "df"
      ]
    },
    {
      "cell_type": "code",
      "execution_count": null,
      "metadata": {
        "id": "OwHAshL8wxmf"
      },
      "outputs": [],
      "source": [
        "#500 Training\n",
        "X_train = feature[:500]\n",
        "y_train = label[:500]\n",
        "\n",
        "#35 Validation\n",
        "X_val = feature[500:535]\n",
        "y_val = label[500:535]\n",
        "\n",
        "#34 Testing\n",
        "X_test = feature[535:]\n",
        "y_test = label[535:]"
      ]
    },
    {
      "cell_type": "code",
      "execution_count": null,
      "metadata": {
        "id": "Nzj-pXW1vIJg"
      },
      "outputs": [],
      "source": [
        "model = Sequential()\n",
        "\n",
        "model.add(Dense(32, activation = 'relu', input_dim = 30))\n",
        "model.add(Dense(64, activation = 'relu'))\n",
        "model.add(Dense(128, activation = 'relu'))\n",
        "model.add(Dense(64, activation = 'relu'))\n",
        "model.add(Dense(32, activation = 'relu'))\n",
        "model.add(Dense(1, activation = 'sigmoid'))\n",
        "\n",
        "model.compile( loss = 'binary_crossentropy' , optimizer = 'adam' , metrics = ['accuracy'])"
      ]
    },
    {
      "cell_type": "code",
      "execution_count": null,
      "metadata": {
        "id": "Myowb1aFz353"
      },
      "outputs": [],
      "source": [
        "model.fit( X_train , y_train, epochs = 10, batch_size = 5, validation_data = (X_val, y_val))"
      ]
    },
    {
      "cell_type": "code",
      "execution_count": null,
      "metadata": {
        "id": "WjQrOpwc2S03"
      },
      "outputs": [],
      "source": [
        "model.evaluate(X_test , y_test)"
      ]
    },
    {
      "cell_type": "code",
      "execution_count": null,
      "metadata": {
        "id": "Iw4189HY6bC0"
      },
      "outputs": [],
      "source": [
        "model.evaluate(X_val , y_val)"
      ]
    },
    {
      "cell_type": "code",
      "execution_count": null,
      "metadata": {
        "id": "GVKgag0986kX"
      },
      "outputs": [],
      "source": [
        "for i in range(30):\n",
        "  sample = X_test[i]\n",
        "  sample = np.reshape(sample, (1,30))\n",
        "\n",
        "  if (model.predict(sample)[0][0] > 0.5):\n",
        "    print(\"-Benign\")\n",
        "  else:\n",
        "    print(\"-Malignant\")\n",
        "\n",
        "  if (y_test[i] == 1):\n",
        "    print(\"*Banign\")\n",
        "  else:\n",
        "    print(\"*Melignant\")\n",
        "  print(\"-----------\")"
      ]
    },
    {
      "cell_type": "code",
      "execution_count": null,
      "metadata": {
        "id": "9BqHv_pn867L"
      },
      "outputs": [],
      "source": [
        "t = 0\n",
        "for i in y_val:\n",
        "  if (i == 1):\n",
        "    t += 1\n",
        "\n",
        "print(t)"
      ]
    },
    {
      "cell_type": "code",
      "execution_count": null,
      "metadata": {
        "id": "rBBqR-XP9VpK"
      },
      "outputs": [],
      "source": [
        "t = 0\n",
        "for i in y_test:\n",
        "  if (i == 1):\n",
        "    t += 1\n",
        "\n",
        "print(t)"
      ]
    },
    {
      "cell_type": "code",
      "execution_count": null,
      "metadata": {
        "id": "wlZ0UePBEngy"
      },
      "outputs": [],
      "source": [
        "X_test[0] * -.1"
      ]
    },
    {
      "cell_type": "code",
      "execution_count": null,
      "metadata": {
        "id": "FBKtTu9mEtxP"
      },
      "outputs": [],
      "source": [
        "348/350"
      ]
    },
    {
      "cell_type": "code",
      "execution_count": null,
      "metadata": {
        "id": "ddEotDrBGbam"
      },
      "outputs": [],
      "source": [
        "347/350"
      ]
    },
    {
      "cell_type": "code",
      "execution_count": null,
      "metadata": {
        "id": "gQhg6wwTGckE"
      },
      "outputs": [],
      "source": [
        "32/35"
      ]
    },
    {
      "cell_type": "code",
      "execution_count": null,
      "metadata": {
        "id": "J-X2emHxGeZr"
      },
      "outputs": [],
      "source": []
    }
  ],
  "metadata": {
    "colab": {
      "collapsed_sections": [],
      "name": "Breast Cancer Detection",
      "private_outputs": true,
      "provenance": []
    },
    "kernelspec": {
      "display_name": "Python 3",
      "name": "python3"
    },
    "language_info": {
      "codemirror_mode": {
        "name": "ipython",
        "version": 3
      },
      "file_extension": ".py",
      "mimetype": "text/x-python",
      "name": "python",
      "nbconvert_exporter": "python",
      "pygments_lexer": "ipython3",
      "version": "3.9.12"
    }
  },
  "nbformat": 4,
  "nbformat_minor": 0
}
