{
 "cells": [
  {
   "cell_type": "code",
   "execution_count": 14,
   "id": "14044c95",
   "metadata": {},
   "outputs": [],
   "source": [
    "import json\n",
    "fd = open(\"inventory1.0.json\", \"r\")\n",
    "r = fd.read()\n",
    "fd.close()\n",
    "inventory = json.loads(r)"
   ]
  },
  {
   "cell_type": "code",
   "execution_count": 15,
   "id": "9f94d907",
   "metadata": {},
   "outputs": [
    {
     "data": {
      "text/plain": [
       "{'1010': {'name': 'cocoa',\n",
       "  'catagory': 'food',\n",
       "  'quality': 2,\n",
       "  'price': 40,\n",
       "  'quantity': 100},\n",
       " '1011': {'name': 'cocoa',\n",
       "  'catagory': 'food',\n",
       "  'quality': 2,\n",
       "  'price': 40,\n",
       "  'quantity': 100},\n",
       " '1022': {'name': 'soap',\n",
       "  'catagory': 'sanitization',\n",
       "  'quality': 4,\n",
       "  'price': 40,\n",
       "  'quantity': 100},\n",
       " '1001': {'name': '5_star',\n",
       "  'catagory': 'food',\n",
       "  'quality': 5,\n",
       "  'price': 10,\n",
       "  'quantity': 500},\n",
       " '1002': {'name': 'cadburry',\n",
       "  'catagory': 'food',\n",
       "  'quality': 5,\n",
       "  'price': 10,\n",
       "  'quantity': 500},\n",
       " '1003': {'name': 'perk',\n",
       "  'catagory': 'food',\n",
       "  'quality': 3,\n",
       "  'price': 10,\n",
       "  'quantity': 5},\n",
       " '1004': {'name': 'kitkat',\n",
       "  'catagory': '5',\n",
       "  'quality': 5,\n",
       "  'price': 10,\n",
       "  'quantity': 200},\n",
       " '1005': {'name': 'parle_g',\n",
       "  'catagory': 'food',\n",
       "  'quality': 2,\n",
       "  'price': 10,\n",
       "  'quantity': 200},\n",
       " '1006': {'name': 'good_day',\n",
       "  'catagory': 'food',\n",
       "  'quality': 5,\n",
       "  'price': 30,\n",
       "  'quantity': 100},\n",
       " 'hode_&_seek': {'name': 'hide_&_seek',\n",
       "  'catagory': 'fod',\n",
       "  'quality': 5,\n",
       "  'price': 30,\n",
       "  'quantity': 200},\n",
       " 'lays': {'name': 'lays',\n",
       "  'catagory': 'food',\n",
       "  'quality': 5,\n",
       "  'price': 20,\n",
       "  'quantity': 300},\n",
       " '1008': {'name': 'balaji_chips',\n",
       "  'catagory': 'food',\n",
       "  'quality': 3,\n",
       "  'price': 10,\n",
       "  'quantity': 400},\n",
       " 'milky_bar': {'name': 'milky_bar',\n",
       "  'catagory': 'food',\n",
       "  'quality': 5,\n",
       "  'price': 10,\n",
       "  'quantity': 100},\n",
       " '1009': {'name': 'kurkure',\n",
       "  'catagory': 'food',\n",
       "  'quality': 4,\n",
       "  'price': 10,\n",
       "  'quantity': 300},\n",
       " '1013': {'name': 'marie',\n",
       "  'catagory': 'food',\n",
       "  'quality': 3,\n",
       "  'price': 10,\n",
       "  'quantity': 200},\n",
       " '1014': {'name': 'sanitizer',\n",
       "  'catagory': 'sanitization',\n",
       "  'quality': 4,\n",
       "  'price': 40,\n",
       "  'quantity': 400},\n",
       " '1015': {'name': 'shampoo',\n",
       "  'catagory': 'sanitization',\n",
       "  'quality': 5,\n",
       "  'price': 60,\n",
       "  'quantity': 200},\n",
       " '1016': {'name': 'aftershower',\n",
       "  'catagory': 'sanitization',\n",
       "  'quality': 5,\n",
       "  'price': 60,\n",
       "  'quantity': 100},\n",
       " 'bandage': {'name': 'bandage',\n",
       "  'catagory': 'medical',\n",
       "  'quality': 5,\n",
       "  'price': 10,\n",
       "  'quantity': 200},\n",
       " '1017': {'name': 'painkillers',\n",
       "  'catagory': 'medicine',\n",
       "  'quality': 5,\n",
       "  'price': 10,\n",
       "  'quantity': 200},\n",
       " 'cup_cake': {'name': 'cup_cake',\n",
       "  'catagory': 'food',\n",
       "  'quality': 14,\n",
       "  'price': 10,\n",
       "  'quantity': 100},\n",
       " 'tooth_pest': {'name': 'tooth_pest',\n",
       "  'catagory': 'sanitization',\n",
       "  'quality': 5,\n",
       "  'price': 30,\n",
       "  'quantity': 400},\n",
       " '1018': {'name': 'brush',\n",
       "  'catagory': 'sanitization',\n",
       "  'quality': 4,\n",
       "  'price': 20,\n",
       "  'quantity': 200},\n",
       " '1019': {'name': 'pencil',\n",
       "  'catagory': 'stationary',\n",
       "  'quality': 4,\n",
       "  'price': 10,\n",
       "  'quantity': 200},\n",
       " '1020': {'name': 'paper',\n",
       "  'catagory': 'stationary',\n",
       "  'quality': 5,\n",
       "  'price': 10,\n",
       "  'quantity': 200},\n",
       " '2023': {'name': 'note_book',\n",
       "  'catagory': 'stationary',\n",
       "  'quality': 4,\n",
       "  'price': 40,\n",
       "  'quantity': 500},\n",
       " '2024': {'name': 'book',\n",
       "  'catagory': 'stationary',\n",
       "  'quality': 5,\n",
       "  'price': 200,\n",
       "  'quantity': 200},\n",
       " '2025': {'name': 'mobile',\n",
       "  'catagory': 'electronics',\n",
       "  'quality': 5,\n",
       "  'price': 20000,\n",
       "  'quantity': 100},\n",
       " '1026': {'name': 'laptop',\n",
       "  'catagory': 'electronics',\n",
       "  'quality': 5,\n",
       "  'price': 70000,\n",
       "  'quantity': 100},\n",
       " '1027': {'name': 'mouse',\n",
       "  'catagory': 'electronics',\n",
       "  'quality': 5,\n",
       "  'price': 500,\n",
       "  'quantity': 100},\n",
       " '1028': {'name': 'mouse_pad',\n",
       "  'catagory': 'electronics',\n",
       "  'quality': 3,\n",
       "  'price': 100,\n",
       "  'quantity': 100},\n",
       " '1029': {'name': 'scandeller',\n",
       "  'catagory': 'decours',\n",
       "  'quality': 4,\n",
       "  'price': 2000,\n",
       "  'quantity': 29},\n",
       " '1030': {'name': 'flowers',\n",
       "  'catagory': 'decours',\n",
       "  'quality': 5,\n",
       "  'price': 100,\n",
       "  'quantity': 200},\n",
       " '1031': {'name': 'led_lights',\n",
       "  'catagory': 'decours',\n",
       "  'quality': 5,\n",
       "  'price': 200,\n",
       "  'quantity': 100},\n",
       " 'candels': {'name': 'candels',\n",
       "  'catagory': 'decours',\n",
       "  'quality': 3,\n",
       "  'price': 20,\n",
       "  'quantity': 40},\n",
       " '1032': {'name': 'paintings',\n",
       "  'catagory': 'decours',\n",
       "  'quality': 2,\n",
       "  'price': 200,\n",
       "  'quantity': 100},\n",
       " '1033': {'name': 'paintings',\n",
       "  'catagory': 'decours',\n",
       "  'quality': 5,\n",
       "  'price': 5000,\n",
       "  'quantity': 20},\n",
       " 'bike': {'name': '20000000',\n",
       "  'catagory': 'electronics',\n",
       "  'quality': 5,\n",
       "  'price': 2000000,\n",
       "  'quantity': 2}}"
      ]
     },
     "execution_count": 15,
     "metadata": {},
     "output_type": "execute_result"
    }
   ],
   "source": [
    "inventory"
   ]
  },
  {
   "cell_type": "code",
   "execution_count": 30,
   "id": "b050e893",
   "metadata": {},
   "outputs": [],
   "source": [
    "def purches(x):\n",
    "    for i in range(x):\n",
    "        ur_prod = str(input(\"Enter product id: \"))\n",
    "        ur_quantity = int(input(\"Enter quntity required: \"))\n",
    "        con_no = int(input(\"Enter contact no. \"))\n",
    "\n",
    "        print(\"product \", inventory[ur_prod][\"name\"])\n",
    "        print(\"price \", inventory[ur_prod][\"price\"])\n",
    "        print(\"catagory \",inventory[ur_prod][\"catagory\"])\n",
    "        print(\"quality \",inventory[ur_prod][\"quality\"])\n",
    "        print(\"Billing Amount \", inventory[ur_prod][\"quantity\"] * ur_quantity)\n",
    "\n",
    "\n",
    "        inventory[ur_prod][\"quantity\"] =  inventory[ur_prod][\"quantity\"] - ur_quantity   \n",
    "        sales[(len(sales) + 1)] = {\"product\" : ur_prod, \"quantity\" : ur_quantity, \"Billing Amount\" : inventory[ur_prod][\"quantity\"] * ur_quantity, \"contact\" : con_no}\n",
    "    return    \n"
   ]
  },
  {
   "cell_type": "code",
   "execution_count": 32,
   "id": "a052b7b4",
   "metadata": {},
   "outputs": [
    {
     "name": "stdout",
     "output_type": "stream",
     "text": [
      "Enter product id: 1010\n",
      "Enter quntity required: 2\n",
      "Enter contact no. 11\n",
      "product  cocoa\n",
      "price  40\n",
      "catagory  food\n",
      "quality  2\n",
      "Billing Amount  200\n",
      "Enter product id: 1010\n",
      "Enter quntity required: 2\n",
      "Enter contact no. 22\n",
      "product  cocoa\n",
      "price  40\n",
      "catagory  food\n",
      "quality  2\n",
      "Billing Amount  196\n"
     ]
    }
   ],
   "source": [
    "purches(2)"
   ]
  },
  {
   "cell_type": "code",
   "execution_count": 33,
   "id": "b709a1a0",
   "metadata": {},
   "outputs": [],
   "source": [
    "js = json.dumps(inventory)\n",
    "fd = open(\"inventory1.0\", \"w\")\n",
    "fd.write(js)\n",
    "fd.close()"
   ]
  },
  {
   "cell_type": "code",
   "execution_count": 34,
   "id": "0b89bd1d",
   "metadata": {},
   "outputs": [],
   "source": [
    "js = json.dumps(sales)\n",
    "fd = open(\"sales.json\", \"w\")\n",
    "fd.write(js)\n",
    "fd.close()"
   ]
  },
  {
   "cell_type": "code",
   "execution_count": 35,
   "id": "756b0e81",
   "metadata": {},
   "outputs": [
    {
     "data": {
      "text/plain": [
       "{'product': '1022', 'quantity': 2, 'Billing Amount': 196}"
      ]
     },
     "execution_count": 35,
     "metadata": {},
     "output_type": "execute_result"
    }
   ],
   "source": [
    "{\"product\" : ur_prod, \"quantity\" : ur_quantity, \"Billing Amount\" : inventory[ur_prod][\"quantity\"] * ur_quantity}"
   ]
  },
  {
   "cell_type": "code",
   "execution_count": 36,
   "id": "32a2dfac",
   "metadata": {},
   "outputs": [],
   "source": [
    "sales = {1 : {\"product\" : ur_prod, \"quantity\" : ur_quantity, \"Billing Amount\" : inventory[ur_prod][\"quantity\"] * ur_quantity},\n",
    "         2 : {\"product\" : ur_prod, \"quantity\" : ur_quantity, \"Billing Amount\" : inventory[ur_prod][\"quantity\"] * ur_quantity},\n",
    "         3 : {\"product\" : ur_prod, \"quantity\" : ur_quantity, \"Billing Amount\" : inventory[ur_prod][\"quantity\"] * ur_quantity}}"
   ]
  },
  {
   "cell_type": "code",
   "execution_count": 37,
   "id": "6b1ce73e",
   "metadata": {},
   "outputs": [
    {
     "data": {
      "text/plain": [
       "{4: {'product': '1022', 'quantity': 2, 'Billing Amount': 196}}"
      ]
     },
     "execution_count": 37,
     "metadata": {},
     "output_type": "execute_result"
    }
   ],
   "source": [
    "{(len(sales) + 1) : {\"product\" : ur_prod, \"quantity\" : ur_quantity, \"Billing Amount\" : inventory[ur_prod][\"quantity\"] * ur_quantity}}"
   ]
  },
  {
   "cell_type": "code",
   "execution_count": 38,
   "id": "ab40093a",
   "metadata": {},
   "outputs": [],
   "source": [
    "sales[(len(sales) + 1)] = {\"product\" : ur_prod, \"quantity\" : ur_quantity, \"Billing Amount\" : inventory[ur_prod][\"quantity\"] * ur_quantity}"
   ]
  },
  {
   "cell_type": "code",
   "execution_count": 39,
   "id": "ecc2d1e5",
   "metadata": {},
   "outputs": [
    {
     "data": {
      "text/plain": [
       "{1: {'product': '1022', 'quantity': 2, 'Billing Amount': 196},\n",
       " 2: {'product': '1022', 'quantity': 2, 'Billing Amount': 196},\n",
       " 3: {'product': '1022', 'quantity': 2, 'Billing Amount': 196},\n",
       " 4: {'product': '1022', 'quantity': 2, 'Billing Amount': 196}}"
      ]
     },
     "execution_count": 39,
     "metadata": {},
     "output_type": "execute_result"
    }
   ],
   "source": [
    "sales"
   ]
  },
  {
   "cell_type": "code",
   "execution_count": 40,
   "id": "8d5fbbb0",
   "metadata": {},
   "outputs": [],
   "source": [
    "js = json.dumps(sales)\n",
    "fd = open(\"sales.json\", \"w\")\n",
    "fd.write(js)\n",
    "fd.close()"
   ]
  },
  {
   "cell_type": "code",
   "execution_count": null,
   "id": "aba0b8d7",
   "metadata": {},
   "outputs": [],
   "source": []
  }
 ],
 "metadata": {
  "kernelspec": {
   "display_name": "Python 3",
   "language": "python",
   "name": "python3"
  },
  "language_info": {
   "codemirror_mode": {
    "name": "ipython",
    "version": 3
   },
   "file_extension": ".py",
   "mimetype": "text/x-python",
   "name": "python",
   "nbconvert_exporter": "python",
   "pygments_lexer": "ipython3",
   "version": "3.8.8"
  }
 },
 "nbformat": 4,
 "nbformat_minor": 5
}
